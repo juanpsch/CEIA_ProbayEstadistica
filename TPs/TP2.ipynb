{
 "cells": [
  {
   "cell_type": "code",
   "execution_count": 15,
   "metadata": {},
   "outputs": [],
   "source": [
    "\n",
    "%matplotlib qt\n",
    "import numpy as np\n",
    "import matplotlib.pyplot as plt\n",
    "from scipy.stats import beta\n",
    "from scipy.stats import binom\n",
    "from scipy.stats import beta\n",
    "\n",
    "fig, ax = plt.subplots(1, 1)\n"
   ]
  },
  {
   "cell_type": "code",
   "execution_count": 16,
   "metadata": {},
   "outputs": [
    {
     "name": "stdout",
     "output_type": "stream",
     "text": [
      "0.7 0.019090909090909092 -0.4824979096371639 -0.1391941391941392\n"
     ]
    }
   ],
   "source": [
    "a1, b1 = 7, 3\n",
    "mean, var, skew, kurt = beta.stats(a1, b1, moments='mvsk')\n",
    "print(mean, var, skew, kurt)"
   ]
  },
  {
   "cell_type": "code",
   "execution_count": 17,
   "metadata": {},
   "outputs": [
    {
     "data": {
      "text/plain": [
       "<matplotlib.legend.Legend at 0x1c0ec74e150>"
      ]
     },
     "execution_count": 17,
     "metadata": {},
     "output_type": "execute_result"
    }
   ],
   "source": [
    "a1, b1 = 7, 3\n",
    "a2, b2 = 12, 5\n",
    "priori = beta(a1, b1)\n",
    "posteriori = beta(a2, b2)\n",
    "x = np.linspace(0, 1, 100)\n",
    "\n",
    "ax.plot(x, priori.pdf(x), 'b-', lw=2, label='priori pdf')\n",
    "ax.plot(x, posteriori.pdf(x), 'r-', lw=2, label='posteriori pdf')\n",
    "ax.legend()\n",
    "\n",
    "# ax.plot(x, beta.pdf(x, a1, b1),\n",
    "#        'r-', lw=5, alpha=0.6, label='beta pdf')"
   ]
  }
 ],
 "metadata": {
  "kernelspec": {
   "display_name": "cv1",
   "language": "python",
   "name": "python3"
  },
  "language_info": {
   "codemirror_mode": {
    "name": "ipython",
    "version": 3
   },
   "file_extension": ".py",
   "mimetype": "text/x-python",
   "name": "python",
   "nbconvert_exporter": "python",
   "pygments_lexer": "ipython3",
   "version": "3.12.2"
  }
 },
 "nbformat": 4,
 "nbformat_minor": 2
}

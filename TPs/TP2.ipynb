{
 "cells": [
  {
   "cell_type": "code",
   "execution_count": 1,
   "metadata": {},
   "outputs": [],
   "source": [
    "\n",
    "%matplotlib qt\n",
    "import numpy as np\n",
    "import matplotlib.pyplot as plt\n",
    "from scipy.stats import beta\n",
    "from scipy.stats import binom\n",
    "from scipy.stats import beta\n",
    "from scipy.special import comb\n",
    "\n",
    "fig, ax = plt.subplots(1, 1)\n"
   ]
  },
  {
   "cell_type": "code",
   "execution_count": 2,
   "metadata": {},
   "outputs": [],
   "source": [
    "def likelihood(p,n,k):\n",
    "    L = comb(n,k)*np.power(p,k)*np.power(1-p,n-k)    \n",
    "    return L"
   ]
  },
  {
   "cell_type": "code",
   "execution_count": 3,
   "metadata": {},
   "outputs": [
    {
     "data": {
      "text/plain": [
       "<matplotlib.legend.Legend at 0x1a3c08e86b0>"
      ]
     },
     "execution_count": 3,
     "metadata": {},
     "output_type": "execute_result"
    }
   ],
   "source": [
    "n, k = 7,5\n",
    "a1, b1 = 7, 3\n",
    "a2, b2 = 12, 5\n",
    "priori = beta(a1, b1)\n",
    "posteriori = beta(a2, b2)\n",
    "g = 1.1\n",
    "ff = beta(5*g, 2*g)\n",
    "\n",
    "\n",
    "x = np.linspace(0, 1, 100)\n",
    "verosimilitud = likelihood(x, n, k)\n",
    "\n",
    "ax.plot(x, priori.pdf(x), 'b-', lw=2, label='priori')\n",
    "ax.plot(x, verosimilitud*(n+1), 'y-', lw=2, label='verosimilitud')\n",
    "ax.plot(x, posteriori.pdf(x), 'r-', lw=2, label='posteriori')\n",
    "# ax.plot(x, ff.pdf(x), 'g-', lw=2, label='ff')\n",
    "ax.axvline(0.7, linestyle ='--')\n",
    "plt.xlabel(\"θ\")\n",
    "plt.ylabel(\"f(θ)\")\n",
    "plt.xticks(np.arange(0, 1, step=0.1))  # Set label locations.\n",
    "ax.legend()\n",
    "\n",
    "# ax.plot(x, beta.pdf(x, a1, b1),\n",
    "#        'r-', lw=5, alpha=0.6, label='beta pdf')||"
   ]
  },
  {
   "cell_type": "code",
   "execution_count": 4,
   "metadata": {},
   "outputs": [],
   "source": [
    "E_priori = priori.mean()\n",
    "E_posteriori = posteriori.mean()\n",
    "E_verosimilitud = verosimilitud.mean()*(n-1)\n",
    "E_ff = ff.mean()"
   ]
  },
  {
   "cell_type": "code",
   "execution_count": 5,
   "metadata": {},
   "outputs": [
    {
     "name": "stdout",
     "output_type": "stream",
     "text": [
      "0.7\n",
      "0.7058823529411765\n",
      "0.7142857142857143\n"
     ]
    }
   ],
   "source": [
    "print(E_priori)\n",
    "print(E_posteriori)\n",
    "print(E_ff)"
   ]
  },
  {
   "cell_type": "code",
   "execution_count": 6,
   "metadata": {},
   "outputs": [
    {
     "name": "stdout",
     "output_type": "stream",
     "text": [
      "0.7137633319772172\n",
      "0.714114075765578\n",
      "0.7335586467438782\n"
     ]
    }
   ],
   "source": [
    "E_priori = priori.median()\n",
    "E_posteriori = posteriori.median()\n",
    "E_ff = ff.median()\n",
    "\n",
    "print(E_priori)\n",
    "print(E_posteriori)\n",
    "print(E_ff)"
   ]
  },
  {
   "cell_type": "code",
   "execution_count": 7,
   "metadata": {},
   "outputs": [
    {
     "data": {
      "text/plain": [
       "0.7335586467438782"
      ]
     },
     "execution_count": 7,
     "metadata": {},
     "output_type": "execute_result"
    }
   ],
   "source": [
    "ff.median()"
   ]
  },
  {
   "cell_type": "code",
   "execution_count": 8,
   "metadata": {},
   "outputs": [
    {
     "name": "stdout",
     "output_type": "stream",
     "text": [
      "['α', 'β', 'γ', 'δ', 'ε', 'ζ', 'η', 'θ', 'ι', 'κ', 'λ', 'μ', 'ν', 'ξ', 'ο', 'π', 'ρ', 'ς', 'σ', 'τ', 'υ', 'φ', 'χ', 'ψ', 'ω']\n"
     ]
    }
   ],
   "source": [
    "greek_letterz=[chr(code) for code in range(945,970)]\n",
    "\n",
    "print(greek_letterz)"
   ]
  }
 ],
 "metadata": {
  "kernelspec": {
   "display_name": "cv1",
   "language": "python",
   "name": "python3"
  },
  "language_info": {
   "codemirror_mode": {
    "name": "ipython",
    "version": 3
   },
   "file_extension": ".py",
   "mimetype": "text/x-python",
   "name": "python",
   "nbconvert_exporter": "python",
   "pygments_lexer": "ipython3",
   "version": "3.12.2"
  }
 },
 "nbformat": 4,
 "nbformat_minor": 2
}
